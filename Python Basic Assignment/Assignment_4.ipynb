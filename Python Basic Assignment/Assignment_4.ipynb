{
 "cells": [
  {
   "cell_type": "markdown",
   "id": "d734d30b",
   "metadata": {},
   "source": [
    "1. What exactly is []?\n",
    "      \n",
    "       The empty list value, which is a list value that contains no items. \n",
    "\n"
   ]
  },
  {
   "cell_type": "markdown",
   "id": "ceef26fd",
   "metadata": {},
   "source": [
    "2. In a list of values stored in a variable called spam, how would you assign the value 'hello' as the third value? (Assume [2, 4, 6, 8, 10] are in spam.)\n",
    "  \n",
    "        spam=[2, 4, 6, 8, 10]\n",
    "        spam[2]='hello'\n",
    "        ( The third value in a list is at index 2 because the first index is 0.)\n",
    "        \n"
   ]
  },
  {
   "cell_type": "markdown",
   "id": "ec7b2a58",
   "metadata": {},
   "source": [
    "Let's pretend the spam includes the list ['a', 'b', 'c', 'd'] for the next three queries."
   ]
  },
  {
   "cell_type": "markdown",
   "id": "eab65249",
   "metadata": {},
   "source": [
    "3. What is the value of spam[int(int('3' * 2) / 11)]?\n",
    "       \n",
    "       The value of spam[int(int('3' * 2) / 11)] is 'd'"
   ]
  },
  {
   "cell_type": "markdown",
   "id": "bb2aed2f",
   "metadata": {},
   "source": [
    "4. What is the value of spam[-1]?\n",
    "  \n",
    "       'd' (Negative indexes count from the end.)\n"
   ]
  },
  {
   "cell_type": "markdown",
   "id": "3d6e90b8",
   "metadata": {},
   "source": [
    "5. What is the value of spam[:2]?\n",
    "    \n",
    "       The value of spam[:2] is ['a', 'b']\n"
   ]
  },
  {
   "cell_type": "markdown",
   "id": "8bef67e0",
   "metadata": {},
   "source": [
    "Let's pretend bacon has the list [3.14, 'cat', 11, 'cat', True] for the next three questions."
   ]
  },
  {
   "cell_type": "markdown",
   "id": "6f101728",
   "metadata": {},
   "source": [
    "6. What is the value of bacon.index('cat')?\n",
    "        \n",
    "       index() is an inbuilt function in Python, which searches for a given element from the start of the list            and returns the lowest index where the element appears.\n",
    "      \n",
    "       bacon =[3.14, 'cat', 11, 'cat', True]\n",
    "       The value of bacon.index('cat') is 1.\n",
    "       \n",
    "   "
   ]
  },
  {
   "cell_type": "markdown",
   "id": "d43b369c",
   "metadata": {},
   "source": [
    "7. How does bacon.append(99) change the look of the list value in bacon?\n",
    "      \n",
    "       The append() method appends an element to the end of the list.\n",
    "       [3.14, 'cat', 11, 'cat', True, 99]"
   ]
  },
  {
   "cell_type": "markdown",
   "id": "c80083dc",
   "metadata": {},
   "source": [
    "8. How does bacon.remove('cat') change the look of the list in bacon?\n",
    "   \n",
    "       [3.14, 11, 'cat', True]"
   ]
  },
  {
   "cell_type": "markdown",
   "id": "ac36f275",
   "metadata": {},
   "source": [
    "9. What are the list concatenation and list replication operators?\n",
    "           \n",
    "           The operator for list concatenation is +, while the operator for replication is *. \n",
    "           (This is the same as for strings.)\n",
    "\n"
   ]
  },
  {
   "cell_type": "markdown",
   "id": "7957855a",
   "metadata": {},
   "source": [
    "10. What is difference between the list methods append() and insert()?\n",
    "          \n",
    "          The append() method appends an element to the end of the list,while insert() method can add an element\n",
    "           anywhere in the list.\n",
    " "
   ]
  },
  {
   "cell_type": "markdown",
   "id": "4a2b93b8",
   "metadata": {},
   "source": [
    "11. What are the two methods for removing items from a list?\n",
    "       \n",
    "        The two methods for removing items from a list are:del and remove"
   ]
  },
  {
   "cell_type": "markdown",
   "id": "2c22892e",
   "metadata": {},
   "source": [
    "12. Describe how list values and string values are identical.\n",
    "       \n",
    "        Both lists and strings can be passed to len(), \n",
    "        have indexes and slices, \n",
    "        be used in for loops, \n",
    "        be concatenated or replicated, \n",
    "        and be used with the in and not in operators."
   ]
  },
  {
   "cell_type": "markdown",
   "id": "602c25f6",
   "metadata": {},
   "source": [
    "13. What's the difference between tuples and lists?\n",
    "      \n",
    "        Lists are mutable, they can have values added, removed, or changed. \n",
    "        Tuples are immutable; they cannot be changed at all. \n",
    "        Tuples are written using parentheses ( ), while lists use the square brackets [].\n",
    "        Lists have several built-in methods , while tuple does not have many built-in methods.\n",
    "        Lists consume more memory ,while tuple consume less memory as compared to the list"
   ]
  },
  {
   "cell_type": "markdown",
   "id": "a3fb5666",
   "metadata": {},
   "source": [
    "14. How do you type a tuple value that only contains the integer 42?\n",
    "     \n",
    "        b = (42,)"
   ]
  },
  {
   "cell_type": "markdown",
   "id": "0b1af056",
   "metadata": {},
   "source": [
    "15. How do you get a list value's tuple form? How do you get a tuple value's list form?\n",
    "    \n",
    "        we can get a list value's tuple form using list()  and \n",
    "        a tuple value's list form using tuple()"
   ]
  },
  {
   "cell_type": "markdown",
   "id": "3746c8b0",
   "metadata": {},
   "source": [
    "16. Variables that \"contain\" list values are not necessarily lists themselves. Instead, what do they contain?\n",
    "     \n",
    "        They contain references to list values."
   ]
  },
  {
   "cell_type": "markdown",
   "id": "10e64389",
   "metadata": {},
   "source": [
    "17. How do you distinguish between copy.copy() and copy.deepcopy()?\n",
    "    \n",
    "        The copy.copy() function will do a shallow copy of a list, while the copy.deepcopy() function will do a           deep copy of a list. That is, only copy.deepcopy() will duplicate any lists inside the list."
   ]
  }
 ],
 "metadata": {
  "kernelspec": {
   "display_name": "Python 3",
   "language": "python",
   "name": "python3"
  },
  "language_info": {
   "codemirror_mode": {
    "name": "ipython",
    "version": 3
   },
   "file_extension": ".py",
   "mimetype": "text/x-python",
   "name": "python",
   "nbconvert_exporter": "python",
   "pygments_lexer": "ipython3",
   "version": "3.6.13"
  }
 },
 "nbformat": 4,
 "nbformat_minor": 5
}
