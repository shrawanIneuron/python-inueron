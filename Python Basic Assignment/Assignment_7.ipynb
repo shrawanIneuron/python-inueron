{
 "cells": [
  {
   "cell_type": "markdown",
   "id": "c74f3c6f",
   "metadata": {},
   "source": [
    "1. What is the name of the feature responsible for generating Regex objects?\n",
    "\n",
    "        The re.compile() method which is responsible for generating returns Regex objects."
   ]
  },
  {
   "cell_type": "markdown",
   "id": "7f7657be",
   "metadata": {},
   "source": [
    "2. Why do raw strings often appear in Regex objects?\n",
    " \n",
    "       Raw strings are used so that backslashes do not have to be escaped."
   ]
  },
  {
   "cell_type": "markdown",
   "id": "0c698fee",
   "metadata": {},
   "source": [
    "3. What is the return value of the search() method?\n",
    "   \n",
    "       Match objects is the return value of search() method."
   ]
  },
  {
   "cell_type": "markdown",
   "id": "a3481676",
   "metadata": {},
   "source": [
    "4. From a Match item, how do you get the actual strings that match the pattern?\n",
    "   \n",
    "       The group() method returns strings of the matched text."
   ]
  },
  {
   "cell_type": "markdown",
   "id": "85cb246f",
   "metadata": {},
   "source": [
    "5. In the regex which created from the r'(\\d\\d\\d)-(\\d\\d\\d-\\d\\d\\d\\d)', what does group zero cover? Group 2? Group 1?\n",
    "  \n",
    "       Group 0 is the entire match, group 1 covers the first set of parentheses, and group 2 covers the second set of parentheses."
   ]
  },
  {
   "cell_type": "markdown",
   "id": "fef1d662",
   "metadata": {},
   "source": [
    "6. In standard expression syntax, parentheses and intervals have distinct meanings. How can you tell a regex that you want it to fit real parentheses and periods?\n",
    "             \n",
    "       Periods and parentheses can be escaped with a backslash: \\., \\(, and \\)."
   ]
  },
  {
   "cell_type": "markdown",
   "id": "b572477d",
   "metadata": {},
   "source": [
    "7. The findall() method returns a string list or a list of string tuples. What causes it to return one of the two options?\n",
    "  \n",
    "       If the regex has no groups, a list of strings is returned. If the regex has groups, a list of tuples of strings is returned."
   ]
  },
  {
   "cell_type": "markdown",
   "id": "8271bf26",
   "metadata": {},
   "source": [
    "8. In standard expressions, what does the | character mean?\n",
    "\n",
    "       The | character signifies matching \"either, or\" between two groups.\n",
    "\n"
   ]
  },
  {
   "cell_type": "markdown",
   "id": "364becb6",
   "metadata": {},
   "source": [
    "9. In regular expressions, what does the character stand for?\n",
    "  \n",
    "       A regular expression (sometimes called a rational expression) is a sequence of characters \n",
    "       that define a search pattern, mainly for use in pattern matching with strings, or string matching, i.e.        find and replace”-like operations."
   ]
  },
  {
   "cell_type": "markdown",
   "id": "9d2e2ab1",
   "metadata": {},
   "source": [
    "10.In regular expressions, what is the difference between the + and * characters?\n",
    "  \n",
    "    The + matches one or more. The * matches zero or more."
   ]
  },
  {
   "cell_type": "markdown",
   "id": "a8791729",
   "metadata": {},
   "source": [
    "11. What is the difference between {4} and {4,5} in regular expression?\n",
    "\n",
    "        The {4} matches exactly four instances of the preceding group. The {4,5} matches between four and five instances."
   ]
  },
  {
   "cell_type": "markdown",
   "id": "e10026fc",
   "metadata": {},
   "source": [
    "12. What do you mean by the \\d, \\w, and \\s shorthand character classes signify in regular expressions?\n",
    "  \n",
    "        The \\d, \\w, and \\s shorthand character classes match a single digit, word, or space character, respectively."
   ]
  },
  {
   "cell_type": "markdown",
   "id": "5512c5c9",
   "metadata": {},
   "source": [
    "13. What do means by \\D, \\W, and \\S shorthand character classes signify in regular expressions?\n",
    "\n",
    "        The \\D, \\W, and \\S shorthand character classes match a single character that is not a digit, word, or space character, respectively."
   ]
  },
  {
   "cell_type": "markdown",
   "id": "66d452e5",
   "metadata": {},
   "source": [
    "14. What is the difference between (.*?) and (.*) or (dot ,star and question mark) and (dot-star) \n",
    "\n",
    "        The dot-star uses greedy mode: \n",
    "        It will always try to match as much text as possible. \n",
    "        To match any and all text in a non-greedy fashion, use the dot, star, and question mark (.*?).\n",
    "        Like with braces, the question mark tells Python to match in a non-greedy way.\n",
    "        Enter the following into the interactive shell to see the difference between the greedy and non-greedy         versions:\n"
   ]
  },
  {
   "cell_type": "code",
   "execution_count": 7,
   "id": "2ee6259f",
   "metadata": {},
   "outputs": [
    {
     "data": {
      "text/plain": [
       "'<To serve man>'"
      ]
     },
     "execution_count": 7,
     "metadata": {},
     "output_type": "execute_result"
    }
   ],
   "source": [
    "import re\n",
    "nongreedyRegex = re.compile(r'<.*?>')\n",
    "mo = nongreedyRegex.search('<To serve man> for dinner.>')\n",
    "mo.group()\n",
    "\n"
   ]
  },
  {
   "cell_type": "code",
   "execution_count": 8,
   "id": "dd2b7d7c",
   "metadata": {},
   "outputs": [
    {
     "data": {
      "text/plain": [
       "'<To serve man> for dinner.>'"
      ]
     },
     "execution_count": 8,
     "metadata": {},
     "output_type": "execute_result"
    }
   ],
   "source": [
    "greedyRegex = re.compile(r'<.*>')\n",
    "mo1 = greedyRegex.search('<To serve man> for dinner.>')\n",
    "mo1.group()\n"
   ]
  },
  {
   "cell_type": "markdown",
   "id": "17f2e5aa",
   "metadata": {},
   "source": [
    "15. What is the syntax for matching both numbers and lowercase letters with a character class?\n",
    "        \n",
    "        Either [0-9a-z] or [a-z0-9]"
   ]
  },
  {
   "cell_type": "markdown",
   "id": "48f52dde",
   "metadata": {},
   "source": [
    "16. What is the procedure for making a normal expression in regax case insensitive?\n",
    "\n",
    "         Passing re.I or re.IGNORECASE as the second argument to re.compile() will make the matching case              insensitive.\n",
    "\n"
   ]
  },
  {
   "cell_type": "markdown",
   "id": "031ad7ad",
   "metadata": {},
   "source": [
    "17. What does the . character normally match? What does it match if re.DOTALL is passed as 2nd argument in re.compile()?\n",
    "    \n",
    "        The . character normally matches any character except the newline character. If re.DOTALL is passed as         the second argument to re.compile(), then the dot will also match newline characters."
   ]
  },
  {
   "cell_type": "markdown",
   "id": "d8c4e504",
   "metadata": {},
   "source": [
    "18. If numReg = re.compile(r'\\d+'), what will numRegex.sub('X', '11 drummers, 10 pipers, five rings, 4 hen') return?\n",
    "\n",
    "        'X drummers, X pipers, five rings, X hen'"
   ]
  },
  {
   "cell_type": "markdown",
   "id": "a83255eb",
   "metadata": {},
   "source": [
    "19. What does passing re.VERBOSE as the 2nd argument to re.compile() allow to do?\n",
    "   \n",
    "        The re.VERBOSE argument allows you to add whitespace and comments to the string passed to\n",
    "        re.compile()."
   ]
  },
  {
   "cell_type": "markdown",
   "id": "ce0a6e22",
   "metadata": {},
   "source": [
    "20. How would you write a regex that match a number with comma for every three digits? It must match the given following:\n",
    "'42'\n",
    "'1,234'\n",
    "'6,368,745'\n",
    "but not the following:\n",
    "'12,34,567' (which has only two digits between the commas)\n",
    "'1234' (which lacks commas)\n",
    "\n",
    "           re.compile(r'^\\d{1,3}(,\\d{3})*$')"
   ]
  },
  {
   "cell_type": "markdown",
   "id": "07de8266",
   "metadata": {},
   "source": [
    "21. How would you write a regex that matches the full name of someone whose last name is Watanabe? You can assume that the first name that comes before it will always be one word that begins with a capital letter. The regex must match the following:\n",
    "'Haruto Watanabe'\n",
    "'Alice Watanabe'\n",
    "'RoboCop Watanabe'\n",
    "but not the following:\n",
    "'haruto Watanabe' (where the first name is not capitalized)\n",
    "'Mr. Watanabe' (where the preceding word has a nonletter character)\n",
    "'Watanabe' (which has no first name)\n",
    "'Haruto watanabe' (where Watanabe is not capitalized)\n",
    "   \n",
    "          re.compile(r'[A-Z][a-z]*\\sWatanabe')\n"
   ]
  },
  {
   "cell_type": "code",
   "execution_count": 21,
   "id": "94a7cf6b",
   "metadata": {},
   "outputs": [],
   "source": []
  },
  {
   "cell_type": "markdown",
   "id": "8902eaf5",
   "metadata": {},
   "source": [
    "22. How would you write a regex that matches a sentence where the first word is either Alice, Bob, or Carol; the second word is either eats, pets, or throws; the third word is apples, cats, or baseballs; and the sentence ends with a period? This regex should be case-insensitive. It must match the following:\n",
    "'Alice eats apples.'\n",
    "'Bob pets cats.'\n",
    "'Carol throws baseballs.'\n",
    "'Alice throws Apples.'\n",
    "'BOB EATS CATS.'\n",
    "but not the following:\n",
    "'RoboCop eats apples.'\n",
    "'ALICE THROWS FOOTBALLS.'\n",
    "'Carol eats 7 cats.'\n",
    "          \n",
    "          \n",
    "          re.compile(r'(Alice|Bob|Carol)\\s(eats|pets|throws)\\s(apples|cats|baseballs)\\.', re.IGNORECASE)"
   ]
  },
  {
   "cell_type": "code",
   "execution_count": null,
   "id": "cb1a36f1",
   "metadata": {},
   "outputs": [],
   "source": []
  }
 ],
 "metadata": {
  "kernelspec": {
   "display_name": "Python 3",
   "language": "python",
   "name": "python3"
  },
  "language_info": {
   "codemirror_mode": {
    "name": "ipython",
    "version": 3
   },
   "file_extension": ".py",
   "mimetype": "text/x-python",
   "name": "python",
   "nbconvert_exporter": "python",
   "pygments_lexer": "ipython3",
   "version": "3.6.13"
  }
 },
 "nbformat": 4,
 "nbformat_minor": 5
}
