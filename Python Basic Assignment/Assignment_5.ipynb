{
 "cells": [
  {
   "cell_type": "markdown",
   "id": "884e3788",
   "metadata": {},
   "source": [
    "1. What does an empty dictionary's code look like?\n",
    "   \n",
    "    Two curly brackets: {}"
   ]
  },
  {
   "cell_type": "markdown",
   "id": "c61b03eb",
   "metadata": {},
   "source": [
    "2. What is the value of a dictionary value with the key 'foo' and the value 42?\n",
    " \n",
    "    The dictionary looks like {'foo':42} and \n",
    "    \n",
    "    42 is the value of a dictionary value with the key 'foo' and the value 42\n",
    "    "
   ]
  },
  {
   "cell_type": "markdown",
   "id": "76d904b7",
   "metadata": {},
   "source": [
    "3. What is the most significant distinction between a dictionary and a list?\n",
    "  \n",
    "   A list is an ordered sequence of objects,whereas dictionaries are unordered sets. \n",
    "   \n",
    "   However, the main difference is that items in dictionaries are accessed via keys and not via their position.\n",
    "  \n",
    "   The values of a dictionary can be any type of Python data. So, dictionaries are unordered key-value-pairs"
   ]
  },
  {
   "cell_type": "markdown",
   "id": "ae5b7312",
   "metadata": {},
   "source": [
    "4. What happens if you try to access spam['foo'] if spam is {'bar': 100}?\n",
    "    \n",
    "    You get a KeyError error."
   ]
  },
  {
   "cell_type": "markdown",
   "id": "babcc67b",
   "metadata": {},
   "source": [
    "5. If a dictionary is stored in spam, what is the difference between the expressions 'cat' in spam and 'cat' in spam.keys()?\n",
    "   \n",
    "    There is no difference. The in operator checks whether a value exists as a key in the dictionary.\n",
    "    \n",
    "    "
   ]
  },
  {
   "cell_type": "markdown",
   "id": "be97fdce",
   "metadata": {},
   "source": [
    "6. If a dictionary is stored in spam, what is the difference between the expressions 'cat' in spam and 'cat' in spam.values()?\n",
    "\n",
    "    'cat' in spam checks whether there is a 'cat' key in the dictionary, \n",
    "     while 'cat' in spam.values() checks whether there is a value 'cat' for one of the keys in spam."
   ]
  },
  {
   "cell_type": "markdown",
   "id": "8a570c31",
   "metadata": {},
   "source": [
    "7. What is a shortcut for the following code?\n",
    "if 'color' not in spam:\n",
    "spam['color'] = 'black'\n",
    "\n",
    "    spam.setdefault('color', 'black')\n",
    "\n"
   ]
  },
  {
   "cell_type": "markdown",
   "id": "d39068b4",
   "metadata": {},
   "source": [
    "8. How do you \"pretty print\" dictionary values using which module and function?\n",
    "\n",
    "     pprint.pprint()"
   ]
  },
  {
   "cell_type": "code",
   "execution_count": 8,
   "id": "dde247c4",
   "metadata": {},
   "outputs": [
    {
     "name": "stdout",
     "output_type": "stream",
     "text": [
      "[{'Age': '23', 'Country': 'USA', 'Name': 'John'},\n",
      " {'Age': '44', 'Country': 'Spain', 'Name': 'Jose'},\n",
      " {'Age': '29', 'Country': 'UK', 'Name': 'Anne'},\n",
      " {'Age': '35', 'Country': 'Japan', 'Name': 'Lee'}]\n"
     ]
    }
   ],
   "source": [
    "import pprint\n",
    "\n",
    "dct_arr = [\n",
    "  {'Name': 'John', 'Age': '23', 'Country': 'USA'},\n",
    "  {'Name': 'Jose', 'Age': '44', 'Country': 'Spain'},\n",
    "  {'Name': 'Anne', 'Age': '29', 'Country': 'UK'},\n",
    "  {'Name': 'Lee', 'Age': '35', 'Country': 'Japan'}\n",
    "]\n",
    "\n",
    "pprint.pprint(dct_arr)\n"
   ]
  },
  {
   "cell_type": "code",
   "execution_count": null,
   "id": "79a6cf24",
   "metadata": {},
   "outputs": [],
   "source": []
  }
 ],
 "metadata": {
  "kernelspec": {
   "display_name": "Python 3",
   "language": "python",
   "name": "python3"
  },
  "language_info": {
   "codemirror_mode": {
    "name": "ipython",
    "version": 3
   },
   "file_extension": ".py",
   "mimetype": "text/x-python",
   "name": "python",
   "nbconvert_exporter": "python",
   "pygments_lexer": "ipython3",
   "version": "3.6.13"
  }
 },
 "nbformat": 4,
 "nbformat_minor": 5
}
