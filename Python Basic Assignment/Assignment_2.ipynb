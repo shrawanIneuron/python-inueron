{
 "cells": [
  {
   "cell_type": "markdown",
   "id": "e0fe72b7",
   "metadata": {},
   "source": [
    "1.What are the two values of the Boolean data type? How do you write them?\n",
    "    \n",
    "   The two values of the Boolean data type is True and False ."
   ]
  },
  {
   "cell_type": "code",
   "execution_count": 4,
   "id": "ea181018",
   "metadata": {},
   "outputs": [
    {
     "data": {
      "text/plain": [
       "bool"
      ]
     },
     "execution_count": 4,
     "metadata": {},
     "output_type": "execute_result"
    }
   ],
   "source": [
    "a = True\n",
    "type(a)"
   ]
  },
  {
   "cell_type": "code",
   "execution_count": 83,
   "id": "8bc39cdf",
   "metadata": {},
   "outputs": [
    {
     "data": {
      "text/plain": [
       "bool"
      ]
     },
     "execution_count": 83,
     "metadata": {},
     "output_type": "execute_result"
    }
   ],
   "source": [
    "b = False\n",
    "type(b)"
   ]
  },
  {
   "cell_type": "markdown",
   "id": "d686ca3b",
   "metadata": {},
   "source": [
    "2. What are the three different types of Boolean operators?\n",
    "     \n",
    "     The three different types of Boolean operators:and , or , not  \n",
    "    "
   ]
  },
  {
   "cell_type": "code",
   "execution_count": 6,
   "id": "4ccacaf7",
   "metadata": {},
   "outputs": [],
   "source": [
    "a = True \n",
    "b = False"
   ]
  },
  {
   "cell_type": "code",
   "execution_count": 7,
   "id": "85f9a5d1",
   "metadata": {},
   "outputs": [
    {
     "data": {
      "text/plain": [
       "False"
      ]
     },
     "execution_count": 7,
     "metadata": {},
     "output_type": "execute_result"
    }
   ],
   "source": [
    "a and b"
   ]
  },
  {
   "cell_type": "code",
   "execution_count": 8,
   "id": "00117ef4",
   "metadata": {},
   "outputs": [
    {
     "data": {
      "text/plain": [
       "True"
      ]
     },
     "execution_count": 8,
     "metadata": {},
     "output_type": "execute_result"
    }
   ],
   "source": [
    "a or b"
   ]
  },
  {
   "cell_type": "code",
   "execution_count": 9,
   "id": "d5245715",
   "metadata": {},
   "outputs": [
    {
     "data": {
      "text/plain": [
       "False"
      ]
     },
     "execution_count": 9,
     "metadata": {},
     "output_type": "execute_result"
    }
   ],
   "source": [
    "not a"
   ]
  },
  {
   "cell_type": "markdown",
   "id": "a1f2f493",
   "metadata": {},
   "source": [
    "3. Make a list of each Boolean operator's truth tables \n",
    "\n",
    "    (i.e. every possible combination of Boolean values for the operator and what it evaluate )."
   ]
  },
  {
   "cell_type": "code",
   "execution_count": 26,
   "id": "a66449f3",
   "metadata": {},
   "outputs": [],
   "source": [
    "x1 , y1 = True , True\n",
    "x2 , y2 = True , False\n",
    "x3 , y3 = False, True\n",
    "x4 , y4 = False, False"
   ]
  },
  {
   "cell_type": "markdown",
   "id": "6b903508",
   "metadata": {},
   "source": [
    "AND OPERATOR"
   ]
  },
  {
   "cell_type": "code",
   "execution_count": 27,
   "id": "9ab18ae3",
   "metadata": {},
   "outputs": [
    {
     "data": {
      "text/plain": [
       "True"
      ]
     },
     "execution_count": 27,
     "metadata": {},
     "output_type": "execute_result"
    }
   ],
   "source": [
    "x1 and y1"
   ]
  },
  {
   "cell_type": "code",
   "execution_count": 28,
   "id": "2e603fb0",
   "metadata": {},
   "outputs": [
    {
     "data": {
      "text/plain": [
       "False"
      ]
     },
     "execution_count": 28,
     "metadata": {},
     "output_type": "execute_result"
    }
   ],
   "source": [
    "x2 and y2"
   ]
  },
  {
   "cell_type": "code",
   "execution_count": 29,
   "id": "7b9399a6",
   "metadata": {},
   "outputs": [
    {
     "data": {
      "text/plain": [
       "False"
      ]
     },
     "execution_count": 29,
     "metadata": {},
     "output_type": "execute_result"
    }
   ],
   "source": [
    "x3 and y3"
   ]
  },
  {
   "cell_type": "code",
   "execution_count": 30,
   "id": "a224a32a",
   "metadata": {},
   "outputs": [
    {
     "data": {
      "text/plain": [
       "False"
      ]
     },
     "execution_count": 30,
     "metadata": {},
     "output_type": "execute_result"
    }
   ],
   "source": [
    "x4 and y4"
   ]
  },
  {
   "cell_type": "markdown",
   "id": "125fb445",
   "metadata": {},
   "source": [
    "OR OPERATOR"
   ]
  },
  {
   "cell_type": "code",
   "execution_count": 22,
   "id": "c1e1c1b3",
   "metadata": {},
   "outputs": [
    {
     "data": {
      "text/plain": [
       "True"
      ]
     },
     "execution_count": 22,
     "metadata": {},
     "output_type": "execute_result"
    }
   ],
   "source": [
    "x1 or y1"
   ]
  },
  {
   "cell_type": "code",
   "execution_count": 23,
   "id": "0a0cbb8d",
   "metadata": {},
   "outputs": [
    {
     "data": {
      "text/plain": [
       "True"
      ]
     },
     "execution_count": 23,
     "metadata": {},
     "output_type": "execute_result"
    }
   ],
   "source": [
    "x2 or y2"
   ]
  },
  {
   "cell_type": "code",
   "execution_count": 24,
   "id": "9577828a",
   "metadata": {},
   "outputs": [
    {
     "data": {
      "text/plain": [
       "True"
      ]
     },
     "execution_count": 24,
     "metadata": {},
     "output_type": "execute_result"
    }
   ],
   "source": [
    "x3 or y3"
   ]
  },
  {
   "cell_type": "code",
   "execution_count": 25,
   "id": "7589ad4f",
   "metadata": {},
   "outputs": [
    {
     "data": {
      "text/plain": [
       "False"
      ]
     },
     "execution_count": 25,
     "metadata": {},
     "output_type": "execute_result"
    }
   ],
   "source": [
    "x4 or y4"
   ]
  },
  {
   "cell_type": "markdown",
   "id": "b6a83ae3",
   "metadata": {},
   "source": [
    "NOT OPERATOR"
   ]
  },
  {
   "cell_type": "code",
   "execution_count": 31,
   "id": "16012835",
   "metadata": {},
   "outputs": [
    {
     "data": {
      "text/plain": [
       "False"
      ]
     },
     "execution_count": 31,
     "metadata": {},
     "output_type": "execute_result"
    }
   ],
   "source": [
    "not(x1)"
   ]
  },
  {
   "cell_type": "code",
   "execution_count": 32,
   "id": "518a30b3",
   "metadata": {},
   "outputs": [
    {
     "data": {
      "text/plain": [
       "False"
      ]
     },
     "execution_count": 32,
     "metadata": {},
     "output_type": "execute_result"
    }
   ],
   "source": [
    "not(x2)"
   ]
  },
  {
   "cell_type": "code",
   "execution_count": 33,
   "id": "11fea826",
   "metadata": {},
   "outputs": [
    {
     "data": {
      "text/plain": [
       "True"
      ]
     },
     "execution_count": 33,
     "metadata": {},
     "output_type": "execute_result"
    }
   ],
   "source": [
    "not(x3)"
   ]
  },
  {
   "cell_type": "code",
   "execution_count": 34,
   "id": "6673f5a7",
   "metadata": {},
   "outputs": [
    {
     "data": {
      "text/plain": [
       "True"
      ]
     },
     "execution_count": 34,
     "metadata": {},
     "output_type": "execute_result"
    }
   ],
   "source": [
    "not(y4)"
   ]
  },
  {
   "cell_type": "markdown",
   "id": "072f3315",
   "metadata": {},
   "source": [
    "4. What are the values of the following expressions?\n",
    "    \n",
    "    (5 > 4) and (3 == 5)\n",
    "\n",
    "    not (5 > 4)\n",
    "\n",
    "    (5 > 4) or (3 == 5)\n",
    "\n",
    "    not ((5 > 4) or (3 == 5))\n",
    "\n",
    "    (True and True) and (True == False)\n",
    "\n",
    "    (not False) or (not True)"
   ]
  },
  {
   "cell_type": "code",
   "execution_count": 36,
   "id": "db98d481",
   "metadata": {},
   "outputs": [
    {
     "data": {
      "text/plain": [
       "False"
      ]
     },
     "execution_count": 36,
     "metadata": {},
     "output_type": "execute_result"
    }
   ],
   "source": [
    "(5>4) and (3 == 5)"
   ]
  },
  {
   "cell_type": "code",
   "execution_count": 37,
   "id": "72ee6c72",
   "metadata": {},
   "outputs": [
    {
     "data": {
      "text/plain": [
       "False"
      ]
     },
     "execution_count": 37,
     "metadata": {},
     "output_type": "execute_result"
    }
   ],
   "source": [
    "not(5>4)"
   ]
  },
  {
   "cell_type": "code",
   "execution_count": 38,
   "id": "32bac9c3",
   "metadata": {},
   "outputs": [
    {
     "data": {
      "text/plain": [
       "True"
      ]
     },
     "execution_count": 38,
     "metadata": {},
     "output_type": "execute_result"
    }
   ],
   "source": [
    "(5>4) or (3 == 5)"
   ]
  },
  {
   "cell_type": "code",
   "execution_count": 39,
   "id": "ea5c5d2e",
   "metadata": {},
   "outputs": [
    {
     "data": {
      "text/plain": [
       "False"
      ]
     },
     "execution_count": 39,
     "metadata": {},
     "output_type": "execute_result"
    }
   ],
   "source": [
    "not ((5>4) or (3 == 5))"
   ]
  },
  {
   "cell_type": "code",
   "execution_count": 40,
   "id": "ce0093fa",
   "metadata": {},
   "outputs": [
    {
     "data": {
      "text/plain": [
       "False"
      ]
     },
     "execution_count": 40,
     "metadata": {},
     "output_type": "execute_result"
    }
   ],
   "source": [
    "(True and True) and (True == False)"
   ]
  },
  {
   "cell_type": "code",
   "execution_count": 41,
   "id": "85696048",
   "metadata": {},
   "outputs": [
    {
     "data": {
      "text/plain": [
       "True"
      ]
     },
     "execution_count": 41,
     "metadata": {},
     "output_type": "execute_result"
    }
   ],
   "source": [
    "(not False) or (not True)"
   ]
  },
  {
   "cell_type": "markdown",
   "id": "d27c9044",
   "metadata": {},
   "source": [
    "5. What are the six comparison operators?\n",
    "   \n",
    "    The six comparison operators are :\n",
    "        \n",
    "      less than , greater than , less than or equal to , greater than or equal to , equal to , not equal to "
   ]
  },
  {
   "cell_type": "markdown",
   "id": "bdd1dcc0",
   "metadata": {},
   "source": [
    "a. Python Less Than (<) Operator"
   ]
  },
  {
   "cell_type": "code",
   "execution_count": 64,
   "id": "2ec084ff",
   "metadata": {},
   "outputs": [
    {
     "data": {
      "text/plain": [
       "True"
      ]
     },
     "execution_count": 64,
     "metadata": {},
     "output_type": "execute_result"
    }
   ],
   "source": [
    "3<5"
   ]
  },
  {
   "cell_type": "markdown",
   "id": "b2e4bc3c",
   "metadata": {},
   "source": [
    "b. Python Greater Than (>) Operator"
   ]
  },
  {
   "cell_type": "code",
   "execution_count": 65,
   "id": "c77b2b64",
   "metadata": {},
   "outputs": [
    {
     "data": {
      "text/plain": [
       "False"
      ]
     },
     "execution_count": 65,
     "metadata": {},
     "output_type": "execute_result"
    }
   ],
   "source": [
    " 3>5"
   ]
  },
  {
   "cell_type": "markdown",
   "id": "264f3bd2",
   "metadata": {},
   "source": [
    "c. Python Less Than or Equal To (<=) Operator"
   ]
  },
  {
   "cell_type": "code",
   "execution_count": 66,
   "id": "69da9c00",
   "metadata": {},
   "outputs": [
    {
     "data": {
      "text/plain": [
       "True"
      ]
     },
     "execution_count": 66,
     "metadata": {},
     "output_type": "execute_result"
    }
   ],
   "source": [
    " 3 <= 5"
   ]
  },
  {
   "cell_type": "markdown",
   "id": "00c2213e",
   "metadata": {},
   "source": [
    "d.Python Greater Than or Equal To (>=) Operator"
   ]
  },
  {
   "cell_type": "code",
   "execution_count": 67,
   "id": "1b34e10a",
   "metadata": {},
   "outputs": [
    {
     "data": {
      "text/plain": [
       "False"
      ]
     },
     "execution_count": 67,
     "metadata": {},
     "output_type": "execute_result"
    }
   ],
   "source": [
    "3 >=5"
   ]
  },
  {
   "cell_type": "markdown",
   "id": "8d20c909",
   "metadata": {},
   "source": [
    "e. Python Equal To (==) Operator"
   ]
  },
  {
   "cell_type": "code",
   "execution_count": 69,
   "id": "4188b66b",
   "metadata": {},
   "outputs": [
    {
     "data": {
      "text/plain": [
       "False"
      ]
     },
     "execution_count": 69,
     "metadata": {},
     "output_type": "execute_result"
    }
   ],
   "source": [
    "3 == '3'"
   ]
  },
  {
   "cell_type": "markdown",
   "id": "6e5ef872",
   "metadata": {},
   "source": [
    "f. Python Not Equal To (!=) Operator"
   ]
  },
  {
   "cell_type": "code",
   "execution_count": 71,
   "id": "4a5d5734",
   "metadata": {},
   "outputs": [
    {
     "data": {
      "text/plain": [
       "False"
      ]
     },
     "execution_count": 71,
     "metadata": {},
     "output_type": "execute_result"
    }
   ],
   "source": [
    "{1,2,3} != {2,1,3}"
   ]
  },
  {
   "cell_type": "markdown",
   "id": "6e37f7e6",
   "metadata": {},
   "source": [
    "6. How do you tell the difference between the equal to and assignment operators?\n",
    "Describe a condition and when you would use one.\n",
    "\n",
    "    == equal to operator is the comparison operator , used for comparing two values and evalutes to boolean .\n",
    "    \n",
    "    If both the values are equal it returns 1 otherwise returns 0 . \n",
    "\n",
    "    = is the assignment operator , used for assigning the value to a variable   \n",
    "\n",
    "    A condition is an expression used in a flow control statement that evaluates to a Boolean value.\n"
   ]
  },
  {
   "cell_type": "markdown",
   "id": "ec250c1c",
   "metadata": {},
   "source": [
    "7. Identify the three blocks in this code:\n",
    "\n",
    "    spam = 0\n",
    "\n",
    "    if spam == 10:\n",
    "\n",
    "    print('eggs')\n",
    "\n",
    "    if spam > 5:\n",
    "\n",
    "    print('bacon')\n",
    "\n",
    "    else:\n",
    "\n",
    "    print('ham')\n",
    "\n",
    "    print('spam')\n",
    "\n",
    "    print('spam')\n",
    "\n",
    "    There are 3 blocks in this code: 2 if and 1 else"
   ]
  },
  {
   "cell_type": "markdown",
   "id": "c363ff0f",
   "metadata": {},
   "source": [
    "8. Write code that prints Hello if 1 is stored in spam, prints Howdy if 2 is stored in spam, and prints Greetings! if anything else is stored in spam.\n"
   ]
  },
  {
   "cell_type": "code",
   "execution_count": null,
   "id": "e635329c",
   "metadata": {},
   "outputs": [],
   "source": [
    "if spam == 1:\n",
    "    print('Hello')\n",
    "elif spam == 2:\n",
    "    print('Howdy')\n",
    "else:\n",
    "    print('Greetings')"
   ]
  },
  {
   "cell_type": "markdown",
   "id": "421051db",
   "metadata": {},
   "source": [
    "9.If your programme is stuck in an endless loop, what keys you’ll press?\n",
    "      \n",
    "   Press ctrl-C to stop a program stuck in an infinite loop."
   ]
  },
  {
   "cell_type": "markdown",
   "id": "878fe256",
   "metadata": {},
   "source": [
    "10. How can you tell the difference between break and continue?\n",
    "    \n",
    "    The break statement will move the execution outside and just after a loop. \n",
    "    \n",
    "    The continue statement will move the execution to the start of the loop."
   ]
  },
  {
   "cell_type": "markdown",
   "id": "9cddd769",
   "metadata": {},
   "source": [
    "11. In a for loop, what is the difference between range(10), range(0, 10), and range(0, 10, 1)?\n",
    "    \n",
    "    They all do the same thing. The range(10) call ranges from 0 up to (but not including) 10,\n",
    "    \n",
    "    range(0,10) explicitly tells the loop to start at 0 , \n",
    "    \n",
    "    and range (0,10,1) explicitly tells the loop to increase the variable by 1 on each iteration."
   ]
  },
  {
   "cell_type": "markdown",
   "id": "1fbf48b3",
   "metadata": {},
   "source": [
    "12. Write a short program that prints the numbers 1 to 10 using a for loop. \n",
    "Then write an equivalent program that prints the numbers 1 to 10 using a while loop."
   ]
  },
  {
   "cell_type": "code",
   "execution_count": 82,
   "id": "1a91fc1f",
   "metadata": {},
   "outputs": [],
   "source": [
    "# printing the numbers 1 to 10 using a for loop\n",
    "for i in range(1,11):\n",
    "    print(i)\n",
    "# printing the numbers 1 to 10 using while loop    \n",
    "i=1    \n",
    "while(i<=10):\n",
    "    print(i)\n",
    "    i+=1"
   ]
  },
  {
   "cell_type": "markdown",
   "id": "0563702f",
   "metadata": {},
   "source": [
    "13. If you had a function named bacon() inside a module named spam, how would you call it after importing spam?\n",
    "    \n",
    "    This function can be called with spam.bacon()."
   ]
  },
  {
   "cell_type": "code",
   "execution_count": null,
   "id": "91e0d326",
   "metadata": {},
   "outputs": [],
   "source": []
  },
  {
   "cell_type": "code",
   "execution_count": null,
   "id": "c7055e2d",
   "metadata": {},
   "outputs": [],
   "source": []
  }
 ],
 "metadata": {
  "kernelspec": {
   "display_name": "Python 3",
   "language": "python",
   "name": "python3"
  },
  "language_info": {
   "codemirror_mode": {
    "name": "ipython",
    "version": 3
   },
   "file_extension": ".py",
   "mimetype": "text/x-python",
   "name": "python",
   "nbconvert_exporter": "python",
   "pygments_lexer": "ipython3",
   "version": "3.6.13"
  }
 },
 "nbformat": 4,
 "nbformat_minor": 5
}
