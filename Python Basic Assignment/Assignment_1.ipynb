{
 "cells": [
  {
   "cell_type": "markdown",
   "id": "5f3098ef",
   "metadata": {},
   "source": [
    "1. In the below elements which of them are values or an expression? eg:- values can be integer or string and expressions will be mathematical operators.   * 'hello' -87.8 - / +  6 \n",
    "\n",
    "    In the above question(1) ,values are 'hello', -87.8 , 6 and expressions are *, - , / +"
   ]
  },
  {
   "cell_type": "markdown",
   "id": "ad1ec4d5",
   "metadata": {},
   "source": [
    "2. What is the difference between string and variable?\n",
    "\n",
    "    A Variable is a store of information,which can store any type of value whether it is string , float , int      ,   bool etc. and \n",
    "    a String is a type of information we would store in a Variable. A String is usually words, enclosed with \"\".\n",
    "      example: x = \"welcome to inueron course \" ,\n",
    "        \n",
    "      Here x is a variable , the value which we are storing in x variable is a type of string\n"
   ]
  },
  {
   "cell_type": "markdown",
   "id": "403da9c8",
   "metadata": {},
   "source": [
    "3. Describe three different data types.\n",
    "\n",
    "    Variables can store data of different types, and different types can do different things.The three different       data types are :\n",
    "    \n",
    "    Text Type :str\n",
    "   \n",
    "    x = \"welcome to inueron\"\n",
    "    \n",
    "    type(x)\n",
    "    \n",
    "    Numeric Type:int,float,complex\n",
    "    \n",
    "    a = 5\n",
    "    \n",
    "    type(a)\n",
    "    \n",
    "    b=6.5\n",
    "    \n",
    "    type(b)\n",
    "    \n",
    "    c=2+3j\n",
    "    \n",
    "    type(c)\n",
    "    \n",
    "    Boolean Type:bool\n",
    "    \n",
    "    d = True\n",
    "    \n",
    "    type(d)\n",
    "    \n",
    "    e=False\n",
    "    \n",
    "    type(e)\n",
    "    "
   ]
  },
  {
   "cell_type": "markdown",
   "id": "b62dd4ac",
   "metadata": {},
   "source": [
    "4. What is an expression made up of? What do all expressions do?\n",
    "\n",
    "    An expression is a combination of variables,values and operators and calls to functions .\n",
    "    \n",
    "    Expressions need to be evaluted.\n",
    "    \n",
    "    Expressions do the evalution and return a single value , if we ask python to print an expression , \n",
    "    the python interpreter evalutes the expression and display the result. \n",
    "\n",
    "\n",
    "    n =10+5-9\n",
    "\n",
    "    print(n)\n",
    "\n",
    "    "
   ]
  },
  {
   "cell_type": "markdown",
   "id": "711ecb0a",
   "metadata": {},
   "source": [
    "5. This assignment statements, like spam = 10. What is the difference between an expression and a statement?\n",
    "   \n",
    "    when we enter the assignment statements , like spam = 10 , only prompt is returned . \n",
    "\n",
    "    There is no value. \n",
    "    This is due to the fact that statements, such as the assignment statement, do not return a value. \n",
    "    They are simply executed.\n",
    "\n",
    "    The difference between an expression and statement is:\n",
    "\n",
    "    An expression evaluates to a single value. A statement does not."
   ]
  },
  {
   "cell_type": "markdown",
   "id": "25b736c5",
   "metadata": {},
   "source": [
    "6. After running the following code, what does the variable bacon contain?\n",
    "\n",
    "    bacon = 22\n",
    "\n",
    "    bacon + 1\n",
    "\n",
    "    After running the following code , the variable bacon contain 22 because\n",
    "    The bacon variable is set to 22. The bacon + 1 expression \n",
    "    does not reassign the value in bacon (that would need an assignment statement: bacon = bacon + 1)"
   ]
  },
  {
   "cell_type": "code",
   "execution_count": 40,
   "id": "a1e1b876",
   "metadata": {},
   "outputs": [],
   "source": [
    "bacon =22"
   ]
  },
  {
   "cell_type": "code",
   "execution_count": 41,
   "id": "3e4a9ee0",
   "metadata": {},
   "outputs": [
    {
     "data": {
      "text/plain": [
       "23"
      ]
     },
     "execution_count": 41,
     "metadata": {},
     "output_type": "execute_result"
    }
   ],
   "source": [
    "bacon +1"
   ]
  },
  {
   "cell_type": "code",
   "execution_count": 42,
   "id": "7ba5e67d",
   "metadata": {},
   "outputs": [
    {
     "data": {
      "text/plain": [
       "22"
      ]
     },
     "execution_count": 42,
     "metadata": {},
     "output_type": "execute_result"
    }
   ],
   "source": [
    "bacon"
   ]
  },
  {
   "cell_type": "markdown",
   "id": "493cc0e9",
   "metadata": {},
   "source": [
    "7. What should the values of the following two terms be?\n",
    "    \n",
    "    'spam' + 'spamspam'\n",
    "    \n",
    "    'spam' * 3\n",
    "    \n",
    "    The values of the following two terms be:\n",
    "    \n",
    "    'spamspamspam'\n",
    "    \n",
    "    'spamspamspam'\n",
    "    \n",
    "    "
   ]
  },
  {
   "cell_type": "code",
   "execution_count": 44,
   "id": "ef0d0638",
   "metadata": {},
   "outputs": [
    {
     "data": {
      "text/plain": [
       "'spamspamspam'"
      ]
     },
     "execution_count": 44,
     "metadata": {},
     "output_type": "execute_result"
    }
   ],
   "source": [
    "'spam'+'spamspam'"
   ]
  },
  {
   "cell_type": "code",
   "execution_count": 45,
   "id": "65d32b59",
   "metadata": {},
   "outputs": [
    {
     "data": {
      "text/plain": [
       "'spamspamspam'"
      ]
     },
     "execution_count": 45,
     "metadata": {},
     "output_type": "execute_result"
    }
   ],
   "source": [
    "'spam'*3"
   ]
  },
  {
   "cell_type": "markdown",
   "id": "f8bb3da3",
   "metadata": {},
   "source": [
    "8. Why is eggs a valid variable name while 100 is invalid?\n",
    "\n",
    "    According to python variables naming rules:\n",
    "    \n",
    "      A variable name must start with a letter or the underscore character\n",
    "        \n",
    "      A variable name cannot start with a number\n",
    "        \n",
    "      A variable name can only contain alpha-numeric characters and underscores (A-z, 0-9, and _ )\n",
    "        \n",
    "      Variable names are case-sensitive (age, Age and AGE are three different variables)\n",
    "        \n",
    "      that's why eggs is a valid variable name while 100 is invalid"
   ]
  },
  {
   "cell_type": "markdown",
   "id": "2456bc1f",
   "metadata": {},
   "source": [
    "9. What three functions can be used to get the integer, floating-point number, or string version of a value?\n",
    "    \n",
    "    The three functions are int(),float() and str() to get the integer ,\n",
    "    floating-point number or string version of a value."
   ]
  },
  {
   "cell_type": "code",
   "execution_count": 58,
   "id": "70fd94a0",
   "metadata": {},
   "outputs": [
    {
     "data": {
      "text/plain": [
       "12"
      ]
     },
     "execution_count": 58,
     "metadata": {},
     "output_type": "execute_result"
    }
   ],
   "source": [
    "a = 2 + int('10')\n",
    "a"
   ]
  },
  {
   "cell_type": "code",
   "execution_count": 59,
   "id": "6268bd91",
   "metadata": {},
   "outputs": [
    {
     "data": {
      "text/plain": [
       "14.0"
      ]
     },
     "execution_count": 59,
     "metadata": {},
     "output_type": "execute_result"
    }
   ],
   "source": [
    "a = 2 + float('12')\n",
    "a"
   ]
  },
  {
   "cell_type": "code",
   "execution_count": 1,
   "id": "220c3e7a",
   "metadata": {},
   "outputs": [
    {
     "data": {
      "text/plain": [
       "'12'"
      ]
     },
     "execution_count": 1,
     "metadata": {},
     "output_type": "execute_result"
    }
   ],
   "source": [
    "x=str(1) + '2'\n",
    "x"
   ]
  },
  {
   "cell_type": "markdown",
   "id": "71d2c694",
   "metadata": {},
   "source": [
    "10. Why does this expression cause an error? How can you fix it?\n",
    "'I have eaten ' + 99 + ' burritos.'\n",
    "\n",
    "The expression causes an error because 99 is an integer, and only strings can be concatenated to other strings with the + operator. \n",
    "\n",
    "The correct way is 'I have eaten ' + str(99) + ' burritos.'"
   ]
  },
  {
   "cell_type": "code",
   "execution_count": 3,
   "id": "49d44d3b",
   "metadata": {},
   "outputs": [
    {
     "data": {
      "text/plain": [
       "'I have eaten 99 burritos.'"
      ]
     },
     "execution_count": 3,
     "metadata": {},
     "output_type": "execute_result"
    }
   ],
   "source": [
    "str  ='I have eaten ' + str(99) + ' burritos.'\n",
    "str"
   ]
  }
 ],
 "metadata": {
  "kernelspec": {
   "display_name": "Python 3",
   "language": "python",
   "name": "python3"
  },
  "language_info": {
   "codemirror_mode": {
    "name": "ipython",
    "version": 3
   },
   "file_extension": ".py",
   "mimetype": "text/x-python",
   "name": "python",
   "nbconvert_exporter": "python",
   "pygments_lexer": "ipython3",
   "version": "3.6.13"
  }
 },
 "nbformat": 4,
 "nbformat_minor": 5
}
