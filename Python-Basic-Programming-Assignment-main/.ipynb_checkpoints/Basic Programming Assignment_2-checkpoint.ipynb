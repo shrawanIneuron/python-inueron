{
 "cells": [
  {
   "cell_type": "markdown",
   "metadata": {},
   "source": [
    "### Shrawan Kumar,--- iNeuron 2021 Full Stack Data Science,--- Python Basic Programming Assignment_2\n"
   ]
  },
  {
   "cell_type": "markdown",
   "metadata": {},
   "source": [
    "#### Question 1: Write a Python program to convert kilometers to miles?"
   ]
  },
  {
   "cell_type": "code",
   "execution_count": 1,
   "metadata": {},
   "outputs": [
    {
     "name": "stdout",
     "output_type": "stream",
     "text": [
      "Enter the km value want to convert to miles  --->14\n",
      "The value you entered converted from km to miles is:---->    8.70105655686762\n"
     ]
    }
   ],
   "source": [
    "Kilometers=float(input(\"Enter the km value want to convert to miles  --->\"   ))\n",
    "Miles=Kilometers/1.609\n",
    "print(\"The value you entered converted from km to miles is:---->   \",  Miles)"
   ]
  },
  {
   "cell_type": "markdown",
   "metadata": {},
   "source": [
    "#### Question 2: Write a Python program to convert Celsius to Fahrenheit?"
   ]
  },
  {
   "cell_type": "code",
   "execution_count": 2,
   "metadata": {},
   "outputs": [
    {
     "name": "stdout",
     "output_type": "stream",
     "text": [
      "Enter the Temperature in celcius:    56\n",
      "Celcius to Fehrenheit ---->    132.8\n"
     ]
    }
   ],
   "source": [
    "Celsius_Temperature= float(input(\"Enter the Temperature in celcius:    \"))\n",
    "Fehrenheit = (Celsius_Temperature*1.8)+32\n",
    "print(\"Celcius to Fehrenheit ---->   \", Fehrenheit)"
   ]
  },
  {
   "cell_type": "markdown",
   "metadata": {},
   "source": [
    "#### Question 3: Write a Python program to display calendar?"
   ]
  },
  {
   "cell_type": "code",
   "execution_count": 3,
   "metadata": {},
   "outputs": [],
   "source": [
    "import calendar"
   ]
  },
  {
   "cell_type": "code",
   "execution_count": 4,
   "metadata": {},
   "outputs": [
    {
     "name": "stdout",
     "output_type": "stream",
     "text": [
      "     March 2021\n",
      "Mo Tu We Th Fr Sa Su\n",
      " 1  2  3  4  5  6  7\n",
      " 8  9 10 11 12 13 14\n",
      "15 16 17 18 19 20 21\n",
      "22 23 24 25 26 27 28\n",
      "29 30 31\n",
      "\n"
     ]
    }
   ],
   "source": [
    "yy=2021\n",
    "mm= 3\n",
    "print(calendar.month(yy, mm))"
   ]
  },
  {
   "cell_type": "markdown",
   "metadata": {},
   "source": [
    "#### Question 4: Write a Python program to solve quadratic equation?"
   ]
  },
  {
   "cell_type": "code",
   "execution_count": 5,
   "metadata": {},
   "outputs": [],
   "source": [
    "import cmath"
   ]
  },
  {
   "cell_type": "code",
   "execution_count": 6,
   "metadata": {},
   "outputs": [
    {
     "name": "stdout",
     "output_type": "stream",
     "text": [
      "Enter a: 2\n",
      "Enter b: 3\n",
      "Enter c: 4\n",
      "The solution are (-0.75-1.1989578808281798j) and (-0.75+1.1989578808281798j)\n"
     ]
    }
   ],
   "source": [
    "# To take coefficient input from the users\n",
    "a = float(input('Enter a: '))\n",
    "b = float(input('Enter b: '))\n",
    "c = float(input('Enter c: '))\n",
    "\n",
    "d = (b**2) - (4*a*c)\n",
    "\n",
    "# find two solutions\n",
    "sol1 = (-b-cmath.sqrt(d))/(2*a)\n",
    "sol2 = (-b+cmath.sqrt(d))/(2*a)\n",
    "\n",
    "print('The solution are {0} and {1}'.format(sol1,sol2))"
   ]
  },
  {
   "cell_type": "markdown",
   "metadata": {},
   "source": [
    "#### Question 5: Write a Python program to swap two variables without temp variable?"
   ]
  },
  {
   "cell_type": "code",
   "execution_count": 7,
   "metadata": {},
   "outputs": [
    {
     "name": "stdout",
     "output_type": "stream",
     "text": [
      "The value of x is  19\n",
      "The value of y is  17\n",
      "The value of both variable after swapping --->    17 19\n"
     ]
    }
   ],
   "source": [
    "x=int(input(\"The value of x is  \"))\n",
    "y=int(input(\"The value of y is  \"))\n",
    "x=x+y\n",
    "y=x-y\n",
    "x=x-y\n",
    "print(\"The value of both variable after swapping --->   \", x ,    y)"
   ]
  },
  {
   "cell_type": "code",
   "execution_count": null,
   "metadata": {},
   "outputs": [],
   "source": []
  }
 ],
 "metadata": {
  "kernelspec": {
   "display_name": "Python 3 (ipykernel)",
   "language": "python",
   "name": "python3"
  },
  "language_info": {
   "codemirror_mode": {
    "name": "ipython",
    "version": 3
   },
   "file_extension": ".py",
   "mimetype": "text/x-python",
   "name": "python",
   "nbconvert_exporter": "python",
   "pygments_lexer": "ipython3",
   "version": "3.8.5"
  }
 },
 "nbformat": 4,
 "nbformat_minor": 4
}
