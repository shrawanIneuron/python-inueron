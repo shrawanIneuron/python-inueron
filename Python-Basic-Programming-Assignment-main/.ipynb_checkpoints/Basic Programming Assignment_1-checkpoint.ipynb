{
 "cells": [
  {
   "cell_type": "markdown",
   "metadata": {},
   "source": [
    "### Shrawan Kumar,--- iNeuron 2021 Full Stack Data Science,--- Python Basic Programming Assignment_1\n"
   ]
  },
  {
   "cell_type": "markdown",
   "metadata": {},
   "source": [
    "#### Question 1: Write a Python program to print \"Hello Python\"?"
   ]
  },
  {
   "cell_type": "code",
   "execution_count": 1,
   "metadata": {},
   "outputs": [
    {
     "name": "stdout",
     "output_type": "stream",
     "text": [
      "Hello python\n"
     ]
    }
   ],
   "source": [
    "print(\"Hello python\")"
   ]
  },
  {
   "cell_type": "markdown",
   "metadata": {},
   "source": [
    "#### Question 2: Write a Python program to do arithmetical operations addition and division.?"
   ]
  },
  {
   "cell_type": "code",
   "execution_count": 2,
   "metadata": {},
   "outputs": [
    {
     "name": "stdout",
     "output_type": "stream",
     "text": [
      "Enter the value of a:     You have entered:----->     12\n",
      "Enter the value of b:     You have entered:----->     13\n",
      "The sum of values are:---->   25\n",
      "The division values are:---->   0.9230769230769231\n"
     ]
    }
   ],
   "source": [
    "a=int(input(\"Enter the value of a:     You have entered:----->     \"))\n",
    "b=int(input(\"Enter the value of b:     You have entered:----->     \"))\n",
    "addition=a+b\n",
    "division=a/b\n",
    "print(\"The sum of values are:---->  \", addition)\n",
    "print(\"The division values are:---->  \", division)"
   ]
  },
  {
   "cell_type": "markdown",
   "metadata": {},
   "source": [
    "#### Question 3: Write a Python program to find the area of a triangle?"
   ]
  },
  {
   "cell_type": "code",
   "execution_count": 3,
   "metadata": {},
   "outputs": [
    {
     "name": "stdout",
     "output_type": "stream",
     "text": [
      "Enter first side: 15\n",
      "Enter second side: 10\n",
      "Enter third side: 13\n",
      "Area of triangle is :   64.06246951218786\n"
     ]
    }
   ],
   "source": [
    "# Three sides of the triangle is a, b and c:  \n",
    "a = float(input('Enter first side: '))  \n",
    "b = float(input('Enter second side: '))  \n",
    "c = float(input('Enter third side: '))   \n",
    "#s-semi-perimeter\n",
    "s=(a + b + c) / 2\n",
    "#calculate the area  \n",
    "Area = (s*(s-a)*(s-b)*(s-c)) ** 0.5\n",
    "print(\"Area of triangle is :  \", Area)"
   ]
  },
  {
   "cell_type": "markdown",
   "metadata": {},
   "source": [
    "#### Question 4: Write a Python program to swap two variables?"
   ]
  },
  {
   "cell_type": "code",
   "execution_count": 4,
   "metadata": {},
   "outputs": [
    {
     "name": "stdout",
     "output_type": "stream",
     "text": [
      "The value of m is  13\n",
      "The value of n is  56\n",
      "The value of both variable after swapping --->    56 13\n"
     ]
    }
   ],
   "source": [
    "m=int(input(\"The value of m is  \"))\n",
    "n=int(input(\"The value of n is  \"))\n",
    "z=m\n",
    "m=n\n",
    "n=z\n",
    "print(\"The value of both variable after swapping --->   \", m ,    n)"
   ]
  },
  {
   "cell_type": "markdown",
   "metadata": {},
   "source": [
    "#### Question 5: Write a Python program to generate a random number?"
   ]
  },
  {
   "cell_type": "code",
   "execution_count": 5,
   "metadata": {},
   "outputs": [],
   "source": [
    "import random"
   ]
  },
  {
   "cell_type": "code",
   "execution_count": 6,
   "metadata": {},
   "outputs": [
    {
     "name": "stdout",
     "output_type": "stream",
     "text": [
      "6\n"
     ]
    }
   ],
   "source": [
    "print(random.randint(0,19))"
   ]
  }
 ],
 "metadata": {
  "kernelspec": {
   "display_name": "Python 3 (ipykernel)",
   "language": "python",
   "name": "python3"
  },
  "language_info": {
   "codemirror_mode": {
    "name": "ipython",
    "version": 3
   },
   "file_extension": ".py",
   "mimetype": "text/x-python",
   "name": "python",
   "nbconvert_exporter": "python",
   "pygments_lexer": "ipython3",
   "version": "3.8.5"
  }
 },
 "nbformat": 4,
 "nbformat_minor": 4
}
