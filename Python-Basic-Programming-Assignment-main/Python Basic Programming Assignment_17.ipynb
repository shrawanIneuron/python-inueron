{
 "cells": [
  {
   "cell_type": "markdown",
   "id": "5aa89dc8",
   "metadata": {},
   "source": [
    "### Shrawan Kumar--- iNeuron 2021 Full Stack Data Science--- Python Basic Programming Assignment_17"
   ]
  },
  {
   "cell_type": "markdown",
   "id": "56317389",
   "metadata": {},
   "source": [
    "#### 1.Create a function that takes three arguments a, b, c and returns the sum of the numbers that are evenly divided by c from the range a, b inclusive ?\n",
    "**Examples:**  \n",
    "`evenly_divisible(1, 10, 20) ➞ 0\n",
    "    # No number between 1 and 10 can be evenly divided by 20.\n",
    "evenly_divisible(1, 10, 2) ➞ 30\n",
    "    # 2 + 4 + 6 + 8 + 10 = 30\n",
    "evenly_divisible(1, 10, 3) ➞ 18\n",
    "    # 3 + 6 + 9 = 18`"
   ]
  },
  {
   "cell_type": "code",
   "execution_count": 1,
   "id": "efb11f52",
   "metadata": {},
   "outputs": [
    {
     "name": "stdout",
     "output_type": "stream",
     "text": [
      "(1, 10, 20) ➞ 0\n",
      "(1, 10, 2) ➞ 30\n",
      "(1, 10, 3) ➞ 18\n"
     ]
    }
   ],
   "source": [
    "def evenDivisible(a,b,c):\n",
    "    divList = []\n",
    "    for num in range(a,b+1):\n",
    "        if num%c == 0:\n",
    "            divList.append(num)\n",
    "    print(f'{a,b,c} ➞ {sum(divList)}')\n",
    "\n",
    "evenDivisible(1,10,20)\n",
    "evenDivisible(1,10,2)\n",
    "evenDivisible(1,10,3)"
   ]
  },
  {
   "cell_type": "markdown",
   "id": "8613c770",
   "metadata": {},
   "source": [
    "#### 2.Create a function that returns True if a given inequality expression is correct and False otherwise ?\n",
    "**Examples:**  \n",
    "`correct_signs(\"3 < 7 < 11\") ➞ True`  \n",
    "`correct_signs(\"13 > 44 > 33 > 1\") ➞ False`  \n",
    "`correct_signs(\"1 < 2 < 6 < 9 > 3\") ➞ True`"
   ]
  },
  {
   "cell_type": "code",
   "execution_count": 3,
   "id": "66c232f2",
   "metadata": {},
   "outputs": [
    {
     "name": "stdout",
     "output_type": "stream",
     "text": [
      "Enter the inequality: 5 > 7\n",
      "5 > 7 ➞ False\n",
      "Enter the inequality: 4<8\n",
      "4<8 ➞ True\n",
      "Enter the inequality: 3>8\n",
      "3>8 ➞ False\n"
     ]
    }
   ],
   "source": [
    "def checkEquality():\n",
    "    in_string = input('Enter the inequality: ')\n",
    "    out_bool = eval(in_string)\n",
    "    print(f'{in_string} ➞ {out_bool}')\n",
    "\n",
    "for x in range(3):\n",
    "    checkEquality()"
   ]
  },
  {
   "cell_type": "markdown",
   "id": "30d95a12",
   "metadata": {},
   "source": [
    "#### 3.Create a function that replaces all the vowels in a string with a specified character ?\n",
    "**Examples:**  \n",
    "`replace_vowels(\"the aardvark\", \"#\") ➞ \"th# ##rdv#rk\"`  \n",
    "`replace_vowels(\"minnie mouse\", \"?\") ➞ \"m?nn?? m??s?\"`  \n",
    "`replace_vowels(\"shakespeare\", \"*\") ➞ \"shksp**r\"`"
   ]
  },
  {
   "cell_type": "code",
   "execution_count": 4,
   "id": "fb06068e",
   "metadata": {},
   "outputs": [
    {
     "name": "stdout",
     "output_type": "stream",
     "text": [
      "String: ineuron\n",
      "Replacement character: i\n",
      "ineuron i ➞ iniirin\n",
      "String: Sajid\n",
      "Replacement character: j\n",
      "Sajid j ➞ Sjjjd\n",
      "String: Krish\n",
      "Replacement character: r\n",
      "Krish r ➞ Krrsh\n"
     ]
    }
   ],
   "source": [
    "def replaceVowels():\n",
    "    vowels = ['a','e','i','o','u','A','E','I','O','U']\n",
    "    in_string = input(\"String: \")\n",
    "    in_string_copy = in_string\n",
    "    in_char = input('Replacement character: ')\n",
    "    for ele in in_string:\n",
    "        if ele in vowels:\n",
    "            in_string = in_string.replace(ele,in_char)\n",
    "    print(f'{in_string_copy} {in_char} ➞ {in_string}')\n",
    "            \n",
    "for x in range(3):\n",
    "    replaceVowels()"
   ]
  },
  {
   "cell_type": "markdown",
   "id": "93f560f1",
   "metadata": {},
   "source": [
    "#### 4.Write a function that calculates the factorial of a number recursively ?\n",
    "**Examples:**  \n",
    "`factorial(5) ➞ 120`  \n",
    "`factorial(3) ➞ 6`  \n",
    "`factorial(1) ➞ 1`  \n",
    "`factorial(0) ➞ 1`  "
   ]
  },
  {
   "cell_type": "code",
   "execution_count": 5,
   "id": "26a5dda3",
   "metadata": {},
   "outputs": [
    {
     "name": "stdout",
     "output_type": "stream",
     "text": [
      "factorial(5) ➞ 120\n",
      "factorial(3) ➞ 6\n",
      "factorial(1) ➞ 1\n",
      "factorial(0) ➞ 1\n"
     ]
    }
   ],
   "source": [
    "def factorial(n):\n",
    "    if n==0:\n",
    "        return 1\n",
    "    return n * factorial(n-1)\n",
    "\n",
    "print(f'factorial(5) ➞ {factorial(5)}')\n",
    "print(f'factorial(3) ➞ {factorial(3)}')\n",
    "print(f'factorial(1) ➞ {factorial(1)}')\n",
    "print(f'factorial(0) ➞ {factorial(0)}')"
   ]
  },
  {
   "cell_type": "markdown",
   "id": "95400d04",
   "metadata": {},
   "source": [
    "#### 5.Hamming distance is the number of characters that differ between two strings ?\n",
    "To illustrate:  \n",
    "    `String1: \"abcbba\"`  \n",
    "    `String2: \"abcbda\"`  \n",
    "Hamming Distance: 1 - \"b\" vs. \"d\" is the only difference.  \n",
    "Create a function that computes the hamming distance between two strings.  \n",
    "**Examples:**  \n",
    "`hamming_distance(\"abcde\", \"bcdef\") ➞ 5`  \n",
    "`hamming_distance(\"abcde\", \"abcde\") ➞ 0`  \n",
    "`hamming_distance(\"strong\", \"strung\") ➞ 1`  "
   ]
  },
  {
   "cell_type": "code",
   "execution_count": 6,
   "id": "83db3de3",
   "metadata": {},
   "outputs": [
    {
     "name": "stdout",
     "output_type": "stream",
     "text": [
      "Enter the String_1: 3\n",
      "Enter the String_2: 5\n",
      "Hamning Distance b/w 3 and 5 ➞ 1\n",
      "Enter the String_1: 76\n",
      "Enter the String_2: 5\n",
      "Both Strings Must be of Same Length\n",
      "Enter the String_1: 7\n",
      "Enter the String_2: 7\n",
      "Hamning Distance b/w 7 and 7 ➞ 0\n"
     ]
    }
   ],
   "source": [
    "def genHamDistance():\n",
    "    in_string_1 = input('Enter the String_1: ')\n",
    "    in_string_2 = input('Enter the String_2: ')\n",
    "    if len(in_string_1) == len(in_string_2):\n",
    "        count = 0\n",
    "        for i in range(len(in_string_1)):\n",
    "            if in_string_1[i] != in_string_2[i]:\n",
    "                count = count+1\n",
    "        print(f'Hamning Distance b/w {in_string_1} and {in_string_2} ➞ {count}')\n",
    "    else:\n",
    "        print('Both Strings Must be of Same Length')\n",
    "\n",
    "for x in range(3):\n",
    "    genHamDistance()"
   ]
  },
  {
   "cell_type": "code",
   "execution_count": null,
   "id": "a5087b60",
   "metadata": {},
   "outputs": [],
   "source": []
  }
 ],
 "metadata": {
  "kernelspec": {
   "display_name": "Python 3 (ipykernel)",
   "language": "python",
   "name": "python3"
  },
  "language_info": {
   "codemirror_mode": {
    "name": "ipython",
    "version": 3
   },
   "file_extension": ".py",
   "mimetype": "text/x-python",
   "name": "python",
   "nbconvert_exporter": "python",
   "pygments_lexer": "ipython3",
   "version": "3.8.5"
  }
 },
 "nbformat": 4,
 "nbformat_minor": 5
}
